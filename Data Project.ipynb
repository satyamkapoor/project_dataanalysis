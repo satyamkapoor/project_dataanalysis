{
 "cells": [
  {
   "cell_type": "code",
   "execution_count": 17,
   "metadata": {},
   "outputs": [
    {
     "name": "stdout",
     "output_type": "stream",
     "text": [
      "[nltk_data] Error loading stopwords: <urlopen error [Errno -3]\n",
      "[nltk_data]     Temporary failure in name resolution>\n",
      "[nltk_data] Error loading wordnet: <urlopen error [Errno -3] Temporary\n",
      "[nltk_data]     failure in name resolution>\n",
      "starting for loop!\n"
     ]
    }
   ],
   "source": [
    "import nltk\n",
    "import numpy as np\n",
    "import collections\n",
    "import re\n",
    "import pandas as pd\n",
    "from nltk.tokenize import TweetTokenizer\n",
    "from nltk.corpus import stopwords\n",
    "from nltk.stem import PorterStemmer\n",
    "from nltk.stem.wordnet import WordNetLemmatizer\n",
    "from nltk import SnowballStemmer\n",
    "from csv_helper import CSVHelper\n",
    "nltk.download('stopwords')\n",
    "nltk.download('wordnet')\n",
    "\n",
    "data = CSVHelper.load_csv(\"Tweets_2016London.csv\")"
   ]
  },
  {
   "cell_type": "code",
   "execution_count": 18,
   "metadata": {
    "collapsed": true
   },
   "outputs": [],
   "source": [
    "def tokenize(tweets):\n",
    "    tknzr = TweetTokenizer()\n",
    "    tokenized_tweets = []\n",
    "    for tweet in tweets:\n",
    "        tokenized_tweets.append(tknzr.tokenize(tweet))\n",
    "    return tokenized_tweets\n",
    "\n",
    "def remove_stopwords(tweets):\n",
    "    stopwords =  nltk.corpus.stopwords.words('english')\n",
    "    tweets_nostop = []\n",
    "    for tweet in tweets:\n",
    "        tweet_nostop = [w.lower() for w in tweet if w.lower() not in stopwords]\n",
    "        tweets_nostop.append(tweet_nostop)\n",
    "    return tweets_nostop\n",
    "\n",
    "def filter_names(tweets):\n",
    "    tweets_filtered = []\n",
    "    for tweet in tweets:\n",
    "        tweet_filtered = [re.sub(\"@([A-Za-z0-9_]+)\",'', w) for w in tweet]\n",
    "        tweets_filtered.append(tweet_filtered)\n",
    "    return tweets_filtered\n",
    "\n",
    "def filter_noise(tweets):\n",
    "    tweets_filtered = []\n",
    "    for tweet in tweets:\n",
    "        tweet_filtered = [re.sub(\"[^a-zA-Z0-9]\",'', w) for w in tweet if re.sub(\"[^a-zA-Z0-9]\",'', w)!= '']\n",
    "        tweets_filtered.append(tweet_filtered)\n",
    "    return tweets_filtered\n",
    "\n",
    "def remove_url(tweets):\n",
    "    tweets_filtered = []\n",
    "    for tweet in tweets:\n",
    "        tweet_filtered = [re.sub(r'^https?:\\/\\/.*[\\r\\n]*', '', w) for w in tweet]\n",
    "        tweets_filtered.append(tweet_filtered)\n",
    "    return tweets_filtered\n",
    "\n",
    "#we decided to use a lemmatizer instead of stemming \n",
    "def my_stem(tweets):\n",
    "    lmt = WordNetLemmatizer()\n",
    "    ps = PorterStemmer()\n",
    "    tweets_stemmed = []\n",
    "    for tweet in tweets:\n",
    "        tweet_stemmed = [lmt.lemmatize(w) for w in tweet]\n",
    "        tweets_stemmed.append(tweet_stemmed)\n",
    "    return tweets_stemmed"
   ]
  },
  {
   "cell_type": "code",
   "execution_count": 19,
   "metadata": {},
   "outputs": [],
   "source": [
    "all_tweets = tokenize(data)\n",
    "all_tweets = remove_url(all_tweets)\n",
    "all_tweets = filter_names(all_tweets)\n",
    "all_tweets = filter_noise(all_tweets)\n",
    "all_tweets = remove_stopwords(all_tweets)\n",
    "all_tweets = my_stem(all_tweets)"
   ]
  },
  {
   "cell_type": "markdown",
   "metadata": {},
   "source": [
    "The function create_tfidf_features  (input = array of tokenized tweets output = tf-idf feature matrix) Creates a distinct vocabulary set, and a dictionary (key val pairs)for each word in the vocabulary, calculated the IDF value, and for each term in each tweet, calculates the tfidf score (which is just the term frequency * IDF value)\n",
    "\n",
    "\n",
    "https://nlpforhackers.io/tf-idf/\n",
    "\n",
    "https://www.youtube.com/watch?v=4vT4fzjkGCQ&t=1s\n",
    "\n",
    "http://billchambers.me/tutorials/2014/12/21/tf-idf-explained-in-python.html"
   ]
  },
  {
   "cell_type": "code",
   "execution_count": 20,
   "metadata": {
    "collapsed": true,
    "scrolled": true
   },
   "outputs": [],
   "source": [
    "def termfreq(word, tweet):\n",
    "    #print(\"tweet:\", doc, \"length of tweet:\", len(doc))\n",
    "    num_words = len(tweet)\n",
    "    word_occurences = tweet.count(word)\n",
    "    return word_occurences/num_words\n",
    "\n",
    "def count_doc_with_term(word, tweets):\n",
    "    counter = 0\n",
    "    for tweet in tweets:\n",
    "        if word in tweet:\n",
    "            counter = counter + 1\n",
    "    return counter\n",
    "\n",
    "#idf = amount_of_tweets/amount_of_tweets_with_word\n",
    "def idf(word, tweets):\n",
    "    num_tweets = len(tweets)\n",
    "    num_tweets_with_word = count_doc_with_term(word, tweets)\n",
    "    return np.log10(num_tweets/num_tweets_with_word)\n",
    "\n",
    "def create_vocabulary(tweets):\n",
    "    vocabulary = set() #creates a new set named vocabulary (set doesn't have duplicates)\n",
    "    for tweet in tweets: #iterates over all tweets\n",
    "        words = [w for w in tweet] #makes a list of words in a tweet (which our loop currently is in)\n",
    "        vocabulary.update(words)#update teh vocab set \n",
    "    return list(vocabulary)\n",
    "\n",
    "def compute_word_idf(tweets, vocabulary):\n",
    "    word_idf = collections.defaultdict(lambda: 0)    #when I call x[k] for a nonexistent key k (such as a statement like v=x[k]), the key-value pair (k,0) will be automatically added to the dictionary, as if the statement x[k]=0 is first executed.  \n",
    "    for w in vocabulary: #looping across each word in library to calculate the word's idf\n",
    "        word_idf[w] = idf(w, tweets) #taking the wordidf dictionaries' key as the word and putting value as the idf\n",
    "    return word_idf\n",
    "    \n",
    "def tf_idf(word, tweet, tweets, word_idf):\n",
    "    if tweet != []:\n",
    "        return termfreq(word, tweet) * word_idf[word]\n",
    "    else:\n",
    "        return 0\n",
    "    \n",
    "def tweet_tfidf_features(tweets):\n",
    "    vocabulary = create_vocabulary(tweets)\n",
    "    word_idf = compute_word_idf(tweets, vocabulary)\n",
    "    tweet_features = np.empty(len(tweets), dtype=object)\n",
    "    for i, tweet in enumerate(tweets):\n",
    "        a = np.zeros(len(vocabulary))\n",
    "        for j, word in enumerate(vocabulary):\n",
    "            a[j] = tf_idf(word, tweet, tweets,word_idf)\n",
    "        tweet_features[i] = a\n",
    "    return np.vstack(tweet_features)"
   ]
  },
  {
   "cell_type": "markdown",
   "metadata": {},
   "source": [
    "What is happening inside tweet_tfidf_features?\n",
    "\n",
    "1) vocabulary = create_vocabulary(tweets) Creates a vocabulary set (non duplicate values in all words)\n",
    "2) word_idf = returns a dictionary where key is the word and value is the word's idk\n"
   ]
  },
  {
   "cell_type": "code",
   "execution_count": 21,
   "metadata": {
    "collapsed": true,
    "scrolled": true
   },
   "outputs": [],
   "source": [
    "#test = [[\"this\",\"a\",\"a\",\"is\",\"sample\"],[\"this\",\"another\",\"another\",\"is\",\"example\",\"example\",\"example\"]]\n",
    "#test2 = [[\"new\",\"times\",\"york\"],[\"new\",\"post\",\"york\"],[\"angeles\",\"los\",\"times\"]]\n",
    "feature_matrix = tweet_tfidf_features(all_tweets)"
   ]
  },
  {
   "cell_type": "code",
   "execution_count": 22,
   "metadata": {
    "collapsed": true
   },
   "outputs": [],
   "source": [
    "np.set_printoptions(threshold=np.nan)"
   ]
  },
  {
   "cell_type": "code",
   "execution_count": 23,
   "metadata": {},
   "outputs": [
    {
     "data": {
      "text/plain": [
       "(2001, 5400)"
      ]
     },
     "execution_count": 23,
     "metadata": {},
     "output_type": "execute_result"
    }
   ],
   "source": [
    "feature_matrix.shape"
   ]
  },
  {
   "cell_type": "code",
   "execution_count": 24,
   "metadata": {
    "collapsed": true
   },
   "outputs": [],
   "source": [
    "def euclidean_vectorized(A, B):    \n",
    "    n, d = A.shape\n",
    "    m, d1 = B.shape\n",
    "    assert d == d1, 'Incompatible shape'\n",
    "    A_squared = np.sum(np.square(A), axis=1, keepdims=True)\n",
    "    B_squared = np.sum(np.square(B), axis=1, keepdims=True)\n",
    "    AB = np.matmul(A, B.T)\n",
    "    distances = np.sqrt(A_squared - 2 * AB + B_squared.T)\n",
    "    return distances\n",
    "\n",
    "# X: data matrix of size (n_samples,n_features)\n",
    "# n_clusters: number of clusters\n",
    "# output 1: labels of X with size (n_samples,)\n",
    "# output 2: centroids of clusters\n",
    "def kmeans(X,n_clusters):\n",
    "    # initialize labels and prev_labels. prev_labels will be compared with labels to check if the stopping condition\n",
    "    # have been reached.\n",
    "    prev_labels = np.zeros(X.shape[0])\n",
    "    labels = np.zeros(X.shape[0])\n",
    "    \n",
    "    # init random indices\n",
    "    # YOUR CODE GOES HERE\n",
    "    indices = np.random.choice(X.shape[0], n_clusters, replace=False)# np.random.permutation(X.shape[0])[:n_clusters]\n",
    "    \n",
    "    # assign centroids using the indices\n",
    "    # YOUR CODE GOES HERE\n",
    "    centroids = X[indices]\n",
    "    \n",
    "    # the interative algorithm goes here\n",
    "    while (True):\n",
    "        # calculate the distances to the centroids\n",
    "        # YOUR CODE GOES HERE\n",
    "        distances = euclidean_vectorized(X,centroids)\n",
    "       \n",
    "        # assign labels\n",
    "        # YOUR CODE GOES HERE\n",
    "        labels = np.argmin(distances,axis=1)\n",
    "        \n",
    "        # stopping condition\n",
    "        # YOUR CODE GOES HERE\n",
    "        if np.array_equal(labels, prev_labels):\n",
    "        #if np.sum(labels != prev_labels) == 0:\n",
    "            break\n",
    "        \n",
    "        # calculate new centroids\n",
    "        # YOUR CODE GOES HERE\n",
    "        for cluster_indx in range(centroids.shape[0]):\n",
    "            members = X[labels == cluster_indx]\n",
    "            centroids[cluster_indx,:] = np.mean(members,axis=0)\n",
    "        \n",
    "        # keep the labels for next round's usage\n",
    "        # YOUR CODE GOES HERE\n",
    "        prev_labels = np.argmin(distances,axis=1)\n",
    "    \n",
    "    return labels,centroids\n",
    "    "
   ]
  },
  {
   "cell_type": "code",
   "execution_count": 25,
   "metadata": {},
   "outputs": [
    {
     "name": "stderr",
     "output_type": "stream",
     "text": [
      "/home/jeroen/anaconda3/lib/python3.6/site-packages/ipykernel_launcher.py:8: RuntimeWarning: invalid value encountered in sqrt\n",
      "  \n"
     ]
    }
   ],
   "source": [
    "from sklearn.cluster import KMeans\n",
    "num_clusters = 8\n",
    "cluster_labels,centroids = kmeans(feature_matrix,num_clusters)"
   ]
  },
  {
   "cell_type": "code",
   "execution_count": 26,
   "metadata": {
    "scrolled": true
   },
   "outputs": [
    {
     "name": "stdout",
     "output_type": "stream",
     "text": [
      "-0.082753916409\n",
      "silhouette score for k= 2 is: 0.136836687662\n",
      "silhouette score for k= 3 is: -0.0222278292987\n"
     ]
    },
    {
     "name": "stderr",
     "output_type": "stream",
     "text": [
      "/home/jeroen/anaconda3/lib/python3.6/site-packages/ipykernel_launcher.py:8: RuntimeWarning: invalid value encountered in sqrt\n",
      "  \n"
     ]
    },
    {
     "name": "stdout",
     "output_type": "stream",
     "text": [
      "silhouette score for k= 4 is: -0.0780551286112\n",
      "silhouette score for k= 5 is: 0.00635617750465\n",
      "silhouette score for k= 6 is: -0.0888086936753\n",
      "silhouette score for k= 7 is: -0.0828138253119\n",
      "silhouette score for k= 8 is: -0.0221663711152\n",
      "silhouette score for k= 9 is: 0.0130394081298\n",
      "silhouette score for k= 10 is: -0.0526424902621\n",
      "silhouette score for k= 11 is: -0.0501903064803\n",
      "silhouette score for k= 12 is: -0.108536049424\n",
      "silhouette score for k= 13 is: -0.083627171498\n",
      "silhouette score for k= 14 is: -0.0907630674817\n"
     ]
    },
    {
     "data": {
      "image/png": "[encoded data removed]",
      "text/plain": [
       "<matplotlib.figure.Figure at 0x7efbd4162320>"
      ]
     },
     "metadata": {},
     "output_type": "display_data"
    }
   ],
   "source": [
    "import sklearn\n",
    "from sklearn.metrics import silhouette_score\n",
    "print(silhouette_score(feature_matrix, cluster_labels))\n",
    "\n",
    "nclusters_to_test = 15\n",
    "consensus_matrix = np.zeros((feature_matrix.shape[0],feature_matrix.shape[0]))\n",
    "\n",
    "for i in range(2,nclusters_to_test):\n",
    "    cluster_labels, centroids = kmeans(feature_matrix, i)\n",
    "    sil_score = silhouette_score(feature_matrix, cluster_labels)\n",
    "    print(\"silhouette score for k=\",i, 'is:',sil_score)\n",
    "    for i in range(len(cluster_labels)):\n",
    "        for j in range(len(cluster_labels)):\n",
    "            if cluster_labels[i] == cluster_labels[j]:\n",
    "                consensus_matrix[i,j] = (consensus_matrix[i,j] + 1)\n",
    "                \n",
    "import matplotlib.pyplot as plt\n",
    "\n",
    "plt.imshow(consensus_matrix)\n",
    "plt.legend()\n",
    "plt.show()"
   ]
  },
  {
   "cell_type": "markdown",
   "metadata": {},
   "source": [
    "<h3>Additional post-processing step:</h3>\n",
    "In this step, if a pair (i, j) of tweets did not cluster together more than 10% of the total number of runs, the position (i, j) in the consensus matrix is set to 0."
   ]
  },
  {
   "cell_type": "code",
   "execution_count": 27,
   "metadata": {},
   "outputs": [
    {
     "data": {
      "image/png": "[encoded data removed]",
      "text/plain": [
       "<matplotlib.figure.Figure at 0x7efbd41833c8>"
      ]
     },
     "metadata": {},
     "output_type": "display_data"
    }
   ],
   "source": [
    "for i in range(len(consensus_matrix)):\n",
    "    for j in range(len(consensus_matrix)):\n",
    "        if consensus_matrix[i,j] <= 3:\n",
    "            consensus_matrix[i,j] = 0\n",
    "\n",
    "plt.imshow(consensus_matrix)\n",
    "plt.legend()\n",
    "plt.show()"
   ]
  },
  {
   "cell_type": "markdown",
   "metadata": {},
   "source": [
    "<h3>Marking Noise points</h3>\n",
    "To detect noise, we will look at the row sums for the consensus\n",
    "matrix and employed a threshold\n",
    "value. Tweets, whose row sum are less than that threshold val\n",
    "ue are, marked as noise points. The\n",
    "threshold value is determined by the average of all the entri\n",
    "es in the constructed consensus matrix."
   ]
  },
  {
   "cell_type": "code",
   "execution_count": 28,
   "metadata": {},
   "outputs": [
    {
     "name": "stdout",
     "output_type": "stream",
     "text": [
      "1429\n"
     ]
    }
   ],
   "source": [
    "row_mean = consensus_matrix.mean(1)\n",
    "matrix_mean = consensus_matrix.mean()\n",
    "\n",
    "#create clean tweats that removes the noise points\n",
    "clean_tweets = []\n",
    "for i in range(len(all_tweets)):\n",
    "    if row_mean[i] >= matrix_mean:\n",
    "        clean_tweets.append(all_tweets[i])\n",
    "        \n",
    "print(len(clean_tweets))"
   ]
  },
  {
   "cell_type": "markdown",
   "metadata": {},
   "source": [
    "Running k-Means with the consensus matrix as input, number of clusters = 9"
   ]
  },
  {
   "cell_type": "code",
   "execution_count": 29,
   "metadata": {},
   "outputs": [
    {
     "name": "stderr",
     "output_type": "stream",
     "text": [
      "/home/jeroen/anaconda3/lib/python3.6/site-packages/ipykernel_launcher.py:8: RuntimeWarning: invalid value encountered in sqrt\n",
      "  \n"
     ]
    },
    {
     "name": "stdout",
     "output_type": "stream",
     "text": [
      "0.0482372657433\n"
     ]
    }
   ],
   "source": [
    "cluster_labels,centroids = kmeans(feature_matrix,9)\n",
    "print(silhouette_score(feature_matrix, cluster_labels))"
   ]
  },
  {
   "cell_type": "code",
   "execution_count": 30,
   "metadata": {
    "collapsed": true
   },
   "outputs": [],
   "source": [
    "def cosine_distance(v1,v2):\n",
    "    nomer = np.dot(v1, v2)\n",
    "    denomer = np.dot(np.linalg.norm(v1), np.linalg.ndorm(v2))\n",
    "    return nomer/denomer"
   ]
  },
  {
   "cell_type": "code",
   "execution_count": 31,
   "metadata": {
    "collapsed": true
   },
   "outputs": [],
   "source": [
    "#TODO from here\n",
    "def calculate_distances(features):\n",
    "    size = len(features)\n",
    "    distances = np.zeros((size, size))\n",
    "    for i in range(len(distances)):\n",
    "        for j in range(len(distances)):\n",
    "            distances[i,j] = cosine_distance(features[i], features[j])\n",
    "    return distances\n",
    "\n",
    "#distances = calculate_distances(feature_matrix)"
   ]
  }
 ],
 "metadata": {
  "kernelspec": {
   "display_name": "Python 3",
   "language": "python",
   "name": "python3"
  },
  "language_info": {
   "codemirror_mode": {
    "name": "ipython",
    "version": 3
   },
   "file_extension": ".py",
   "mimetype": "text/x-python",
   "name": "python",
   "nbconvert_exporter": "python",
   "pygments_lexer": "ipython3",
   "version": "3.6.3"
  }
 },
 "nbformat": 4,
 "nbformat_minor": 2
}
