{
 "cells": [
  {
   "cell_type": "code",
   "execution_count": 161,
   "metadata": {},
   "outputs": [
    {
     "name": "stdout",
     "output_type": "stream",
     "text": [
      "[nltk_data] Downloading package stopwords to C:\\nltk_data...\n",
      "[nltk_data]   Package stopwords is already up-to-date!\n",
      "[nltk_data] Downloading package wordnet to C:\\nltk_data...\n",
      "[nltk_data]   Package wordnet is already up-to-date!\n",
      "starting for loop!\n"
     ]
    }
   ],
   "source": [
    "import nltk\n",
    "import numpy as np\n",
    "import collections\n",
    "import re\n",
    "import pandas as pd\n",
    "import matplotlib.pyplot as plt\n",
    "from nltk.tokenize import TweetTokenizer\n",
    "from nltk.corpus import stopwords\n",
    "from nltk.stem import PorterStemmer\n",
    "from nltk.stem.wordnet import WordNetLemmatizer\n",
    "from nltk import SnowballStemmer\n",
    "from csv_helper import CSVHelper\n",
    "import sklearn as sk\n",
    "nltk.download('stopwords')\n",
    "nltk.download('wordnet')\n",
    "\n",
    "data = CSVHelper.load_csv(\"Tweets_2016London.csv\")"
   ]
  },
  {
   "cell_type": "code",
   "execution_count": 162,
   "metadata": {
    "collapsed": true
   },
   "outputs": [],
   "source": [
    "def tokenize(tweets):\n",
    "    tknzr = TweetTokenizer()\n",
    "    tokenized_tweets = []\n",
    "    for tweet in tweets:\n",
    "        tokenized_tweets.append(tknzr.tokenize(tweet))\n",
    "    return tokenized_tweets\n",
    "\n",
    "def remove_stopwords(tweets):\n",
    "    stopwords =  nltk.corpus.stopwords.words('english')\n",
    "    stopwords.extend((\"im\",\"dont\",\"wont\"))\n",
    "    tweets_nostop = []\n",
    "    for tweet in tweets:\n",
    "        tweet_nostop = [w.lower() for w in tweet if w.lower() not in stopwords]\n",
    "        tweets_nostop.append(tweet_nostop)\n",
    "    return tweets_nostop\n",
    "\n",
    "def filter_names(tweets):\n",
    "    tweets_filtered = []\n",
    "    regex = re.compile(\"@([A-Za-z0-9_]+)\")\n",
    "    for tweet in tweets:\n",
    "        tweet_filtered = [w for w in tweet if not regex.match(w)]\n",
    "        tweets_filtered.append(tweet_filtered)\n",
    "    return tweets_filtered\n",
    "\n",
    "def filter_noise(tweets):\n",
    "    tweets_filtered = []\n",
    "    regex = re.compile(\"[^a-zA-Z]\")\n",
    "    for tweet in tweets:\n",
    "        tweet_filtered = [re.sub(\"[^a-zA-Z]\",'',w) for w in tweet if not regex.match(w)]\n",
    "        tweets_filtered.append(tweet_filtered)\n",
    "    return tweets_filtered\n",
    "\n",
    "def remove_url(tweets):\n",
    "    tweets_filtered = []\n",
    "    regex = re.compile(\"^https?:\\/\\/.*[\\r\\n]*\")\n",
    "    for tweet in tweets:\n",
    "        tweet_filtered = [w for w in tweet if not regex.match(w)]\n",
    "        tweets_filtered.append(tweet_filtered)\n",
    "    return tweets_filtered\n",
    "\n",
    "#we decided to use a lemmatizer instead of stemming \n",
    "def my_stem(tweets):\n",
    "    lmt = WordNetLemmatizer()\n",
    "    ps = PorterStemmer()\n",
    "    tweets_stemmed = []\n",
    "    for tweet in tweets:\n",
    "        tweet_stemmed = [lmt.lemmatize(w) for w in tweet]\n",
    "        tweets_stemmed.append(tweet_stemmed)\n",
    "    return tweets_stemmed"
   ]
  },
  {
   "cell_type": "code",
   "execution_count": 163,
   "metadata": {
    "collapsed": true
   },
   "outputs": [],
   "source": [
    "all_tweets = tokenize(data)\n",
    "all_tweets = remove_url(all_tweets)\n",
    "all_tweets = filter_names(all_tweets)\n",
    "all_tweets = filter_noise(all_tweets)\n",
    "all_tweets = remove_stopwords(all_tweets)\n",
    "all_tweets = my_stem(all_tweets)\n"
   ]
  },
  {
   "cell_type": "markdown",
   "metadata": {},
   "source": [
    "The function create_tfidf_features  (input = array of tokenized tweets output = tf-idf feature matrix) Creates a distinct vocabulary set, and a dictionary (key val pairs)for each word in the vocabulary, calculated the IDF value, and for each term in each tweet, calculates the tfidf score (which is just the term frequency * IDF value)\n",
    "\n",
    "\n",
    "https://nlpforhackers.io/tf-idf/\n",
    "\n",
    "https://www.youtube.com/watch?v=4vT4fzjkGCQ&t=1s\n",
    "\n",
    "http://billchambers.me/tutorials/2014/12/21/tf-idf-explained-in-python.html"
   ]
  },
  {
   "cell_type": "code",
   "execution_count": 164,
   "metadata": {
    "collapsed": true,
    "scrolled": true
   },
   "outputs": [],
   "source": [
    "def termfreq(word, tweet):\n",
    "    #print(\"tweet:\", doc, \"length of tweet:\", len(doc))\n",
    "    num_words = len(tweet)\n",
    "    word_occurences = tweet.count(word)\n",
    "    return word_occurences/num_words\n",
    "\n",
    "def count_doc_with_term(word, tweets):\n",
    "    counter = 0\n",
    "    for tweet in tweets:\n",
    "        if word in tweet:\n",
    "            counter = counter + 1\n",
    "    return counter\n",
    "\n",
    "#idf = amount_of_tweets/amount_of_tweets_with_word\n",
    "def idf(word, tweets):\n",
    "    num_tweets = len(tweets)\n",
    "    num_tweets_with_word = count_doc_with_term(word, tweets)\n",
    "    return np.log10(num_tweets/num_tweets_with_word)\n",
    "\n",
    "def create_vocabulary(tweets):\n",
    "    vocabulary = set() #creates a new set named vocabulary (set doesn't have duplicates)\n",
    "    for tweet in tweets: #iterates over all tweets\n",
    "        words = [w for w in tweet] #makes a list of words in a tweet (which our loop currently is in)\n",
    "        vocabulary.update(words)#update teh vocab set \n",
    "    return list(vocabulary)\n",
    "\n",
    "def compute_word_idf(tweets, vocabulary):\n",
    "    word_idf = collections.defaultdict(lambda: 0)    #when I call x[k] for a nonexistent key k (such as a statement like v=x[k]), the key-value pair (k,0) will be automatically added to the dictionary, as if the statement x[k]=0 is first executed.  \n",
    "    for w in vocabulary: #looping across each word in library to calculate the word's idf\n",
    "        word_idf[w] = idf(w, tweets) #taking the wordidf dictionaries' key as the word and putting value as the idf\n",
    "    return word_idf\n",
    "    \n",
    "def tf_idf(word, tweet, tweets, word_idf):\n",
    "    if tweet != []:\n",
    "        return termfreq(word, tweet) * word_idf[word]\n",
    "    else:\n",
    "        return 0\n",
    "    \n",
    "def tweet_tfidf_features(tweets):\n",
    "    vocabulary = create_vocabulary(tweets)\n",
    "    word_idf = compute_word_idf(tweets, vocabulary)\n",
    "    tweet_features = np.empty(len(tweets), dtype=object)\n",
    "    for i, tweet in enumerate(tweets):\n",
    "        a = np.zeros(len(vocabulary))\n",
    "        for j, word in enumerate(vocabulary):\n",
    "            a[j] = tf_idf(word, tweet, tweets,word_idf)\n",
    "        tweet_features[i] = a\n",
    "    return np.vstack(tweet_features)"
   ]
  },
  {
   "cell_type": "markdown",
   "metadata": {},
   "source": [
    "What is happening inside tweet_tfidf_features?\n",
    "\n",
    "1) vocabulary = create_vocabulary(tweets) Creates a vocabulary set (non duplicate values in all words)\n",
    "2) word_idf = returns a dictionary where key is the word and value is the word's idk\n"
   ]
  },
  {
   "cell_type": "code",
   "execution_count": 165,
   "metadata": {
    "collapsed": true,
    "scrolled": true
   },
   "outputs": [],
   "source": [
    "#test = [[\"this\",\"a\",\"a\",\"is\",\"sample\"],[\"this\",\"another\",\"another\",\"is\",\"example\",\"example\",\"example\"]]\n",
    "#test2 = [[\"new\",\"times\",\"york\"],[\"new\",\"post\",\"york\"],[\"angeles\",\"los\",\"times\"],[\"pi\",\"pa\",\"po\"],[\"teeet\"],[\"teeet\",\"o\"],[\"pi\",\"pa\",\"po\"]]\n",
    "feature_matrix = tweet_tfidf_features(all_tweets)"
   ]
  },
  {
   "cell_type": "code",
   "execution_count": 166,
   "metadata": {},
   "outputs": [
    {
     "data": {
      "text/plain": [
       "(2001, 4480)"
      ]
     },
     "execution_count": 166,
     "metadata": {},
     "output_type": "execute_result"
    }
   ],
   "source": [
    "feature_matrix.shape"
   ]
  },
  {
   "cell_type": "code",
   "execution_count": null,
   "metadata": {
    "collapsed": true
   },
   "outputs": [],
   "source": []
  },
  {
   "cell_type": "code",
   "execution_count": 167,
   "metadata": {
    "collapsed": true
   },
   "outputs": [],
   "source": [
    "def euclidean_vectorized(A, B):    \n",
    "    n, d = A.shape\n",
    "    m, d1 = B.shape\n",
    "    assert d == d1, 'Incompatible shape'\n",
    "    A_squared = np.sum(np.square(A), axis=1, keepdims=True)\n",
    "    B_squared = np.sum(np.square(B), axis=1, keepdims=True)\n",
    "    AB = np.matmul(A, B.T)\n",
    "    distances = np.sqrt(A_squared - 2 * AB + B_squared.T)\n",
    "    return distances\n",
    "\n",
    "# X: data matrix of size (n_samples,n_features)\n",
    "# n_clusters: number of clusters\n",
    "# output 1: labels of X with size (n_samples,)\n",
    "# output 2: centroids of clusters\n",
    "def kmeans(X,n_clusters):\n",
    "    # initialize labels and prev_labels. prev_labels will be compared with labels to check if the stopping condition\n",
    "    # have been reached.\n",
    "    prev_labels = np.zeros(X.shape[0])\n",
    "    labels = np.zeros(X.shape[0])\n",
    "    \n",
    "    # init random indices\n",
    "    # YOUR CODE GOES HERE\n",
    "    indices = np.random.choice(X.shape[0], n_clusters, replace=False)# np.random.permutation(X.shape[0])[:n_clusters]\n",
    "    \n",
    "    # assign centroids using the indices\n",
    "    # YOUR CODE GOES HERE\n",
    "    centroids = X[indices]\n",
    "    \n",
    "    # the interative algorithm goes here\n",
    "    while (True):\n",
    "        # calculate the distances to the centroids\n",
    "        distances = sk.metrics.pairwise.cosine_distances(X,centroids)\n",
    "       \n",
    "        # assign labels\n",
    "        labels = np.argmin(distances,axis=1)\n",
    "        # stopping condition\n",
    "        if np.array_equal(labels, prev_labels):\n",
    "        #if np.sum(labels != prev_labels) == 0:\n",
    "            break\n",
    "        \n",
    "        # calculate new centroids\n",
    "        for cluster_indx in range(centroids.shape[0]):\n",
    "            members = X[labels == cluster_indx]\n",
    "            centroids[cluster_indx,:] = np.mean(members,axis=0)\n",
    "        \n",
    "        #plt.plot(labels, 'ro')\n",
    "        #plt.show()\n",
    "        \n",
    "        # keep the labels for next round's usage\n",
    "        prev_labels = np.argmin(distances,axis=1)\n",
    "    \n",
    "    return labels,centroids\n",
    "    "
   ]
  },
  {
   "cell_type": "code",
   "execution_count": 168,
   "metadata": {
    "collapsed": true
   },
   "outputs": [],
   "source": [
    "from sklearn.cluster import KMeans\n",
    "num_clusters = 2\n",
    "cluster_labels,centroids = kmeans(feature_matrix,num_clusters)"
   ]
  },
  {
   "cell_type": "code",
   "execution_count": 169,
   "metadata": {
    "scrolled": true
   },
   "outputs": [
    {
     "name": "stdout",
     "output_type": "stream",
     "text": [
      "-0.0822912013058\n",
      "silhouette score for k= 2 is: -0.0515256366367\n",
      "silhouette score for k= 3 is: -0.077235726816\n",
      "silhouette score for k= 4 is: -0.106211144769\n",
      "silhouette score for k= 5 is: -0.102058883346\n",
      "silhouette score for k= 6 is: -0.0792668714271\n",
      "silhouette score for k= 7 is: -0.084132802136\n",
      "silhouette score for k= 8 is: -0.0746489262672\n",
      "silhouette score for k= 9 is: -0.102189176639\n",
      "silhouette score for k= 10 is: -0.105936436072\n",
      "silhouette score for k= 11 is: -0.0708503511431\n"
     ]
    },
    {
     "name": "stderr",
     "output_type": "stream",
     "text": [
      "C:\\Users\\Harry\\Anaconda3\\lib\\site-packages\\numpy\\core\\fromnumeric.py:2909: RuntimeWarning: Mean of empty slice.\n",
      "  out=out, **kwargs)\n",
      "C:\\Users\\Harry\\Anaconda3\\lib\\site-packages\\numpy\\core\\_methods.py:73: RuntimeWarning: invalid value encountered in true_divide\n",
      "  ret, rcount, out=ret, casting='unsafe', subok=False)\n"
     ]
    },
    {
     "ename": "ValueError",
     "evalue": "Input contains NaN, infinity or a value too large for dtype('float64').",
     "output_type": "error",
     "traceback": [
      "\u001b[1;31m---------------------------------------------------------------------------\u001b[0m",
      "\u001b[1;31mValueError\u001b[0m                                Traceback (most recent call last)",
      "\u001b[1;32m<ipython-input-169-88c85f5009d2>\u001b[0m in \u001b[0;36m<module>\u001b[1;34m()\u001b[0m\n\u001b[0;32m      7\u001b[0m \u001b[1;33m\u001b[0m\u001b[0m\n\u001b[0;32m      8\u001b[0m \u001b[1;32mfor\u001b[0m \u001b[0mi\u001b[0m \u001b[1;32min\u001b[0m \u001b[0mrange\u001b[0m\u001b[1;33m(\u001b[0m\u001b[1;36m2\u001b[0m\u001b[1;33m,\u001b[0m\u001b[0mnclusters_to_test\u001b[0m\u001b[1;33m)\u001b[0m\u001b[1;33m:\u001b[0m\u001b[1;33m\u001b[0m\u001b[0m\n\u001b[1;32m----> 9\u001b[1;33m     \u001b[0mcluster_labels\u001b[0m\u001b[1;33m,\u001b[0m \u001b[0mcentroids\u001b[0m \u001b[1;33m=\u001b[0m \u001b[0mkmeans\u001b[0m\u001b[1;33m(\u001b[0m\u001b[0mfeature_matrix\u001b[0m\u001b[1;33m,\u001b[0m \u001b[0mi\u001b[0m\u001b[1;33m)\u001b[0m\u001b[1;33m\u001b[0m\u001b[0m\n\u001b[0m\u001b[0;32m     10\u001b[0m     \u001b[0msil_score\u001b[0m \u001b[1;33m=\u001b[0m \u001b[0msilhouette_score\u001b[0m\u001b[1;33m(\u001b[0m\u001b[0mfeature_matrix\u001b[0m\u001b[1;33m,\u001b[0m \u001b[0mcluster_labels\u001b[0m\u001b[1;33m)\u001b[0m\u001b[1;33m\u001b[0m\u001b[0m\n\u001b[0;32m     11\u001b[0m     \u001b[0mprint\u001b[0m\u001b[1;33m(\u001b[0m\u001b[1;34m\"silhouette score for k=\"\u001b[0m\u001b[1;33m,\u001b[0m\u001b[0mi\u001b[0m\u001b[1;33m,\u001b[0m \u001b[1;34m'is:'\u001b[0m\u001b[1;33m,\u001b[0m\u001b[0msil_score\u001b[0m\u001b[1;33m)\u001b[0m\u001b[1;33m\u001b[0m\u001b[0m\n",
      "\u001b[1;32m<ipython-input-167-13d3549da9b1>\u001b[0m in \u001b[0;36mkmeans\u001b[1;34m(X, n_clusters)\u001b[0m\n\u001b[0;32m     30\u001b[0m     \u001b[1;32mwhile\u001b[0m \u001b[1;33m(\u001b[0m\u001b[1;32mTrue\u001b[0m\u001b[1;33m)\u001b[0m\u001b[1;33m:\u001b[0m\u001b[1;33m\u001b[0m\u001b[0m\n\u001b[0;32m     31\u001b[0m         \u001b[1;31m# calculate the distances to the centroids\u001b[0m\u001b[1;33m\u001b[0m\u001b[1;33m\u001b[0m\u001b[0m\n\u001b[1;32m---> 32\u001b[1;33m         \u001b[0mdistances\u001b[0m \u001b[1;33m=\u001b[0m \u001b[0msk\u001b[0m\u001b[1;33m.\u001b[0m\u001b[0mmetrics\u001b[0m\u001b[1;33m.\u001b[0m\u001b[0mpairwise\u001b[0m\u001b[1;33m.\u001b[0m\u001b[0mcosine_distances\u001b[0m\u001b[1;33m(\u001b[0m\u001b[0mX\u001b[0m\u001b[1;33m,\u001b[0m\u001b[0mcentroids\u001b[0m\u001b[1;33m)\u001b[0m\u001b[1;33m\u001b[0m\u001b[0m\n\u001b[0m\u001b[0;32m     33\u001b[0m \u001b[1;33m\u001b[0m\u001b[0m\n\u001b[0;32m     34\u001b[0m         \u001b[1;31m# assign labels\u001b[0m\u001b[1;33m\u001b[0m\u001b[1;33m\u001b[0m\u001b[0m\n",
      "\u001b[1;32m~\\Anaconda3\\lib\\site-packages\\sklearn\\metrics\\pairwise.py\u001b[0m in \u001b[0;36mcosine_distances\u001b[1;34m(X, Y)\u001b[0m\n\u001b[0;32m    575\u001b[0m     \"\"\"\n\u001b[0;32m    576\u001b[0m     \u001b[1;31m# 1.0 - cosine_similarity(X, Y) without copy\u001b[0m\u001b[1;33m\u001b[0m\u001b[1;33m\u001b[0m\u001b[0m\n\u001b[1;32m--> 577\u001b[1;33m     \u001b[0mS\u001b[0m \u001b[1;33m=\u001b[0m \u001b[0mcosine_similarity\u001b[0m\u001b[1;33m(\u001b[0m\u001b[0mX\u001b[0m\u001b[1;33m,\u001b[0m \u001b[0mY\u001b[0m\u001b[1;33m)\u001b[0m\u001b[1;33m\u001b[0m\u001b[0m\n\u001b[0m\u001b[0;32m    578\u001b[0m     \u001b[0mS\u001b[0m \u001b[1;33m*=\u001b[0m \u001b[1;33m-\u001b[0m\u001b[1;36m1\u001b[0m\u001b[1;33m\u001b[0m\u001b[0m\n\u001b[0;32m    579\u001b[0m     \u001b[0mS\u001b[0m \u001b[1;33m+=\u001b[0m \u001b[1;36m1\u001b[0m\u001b[1;33m\u001b[0m\u001b[0m\n",
      "\u001b[1;32m~\\Anaconda3\\lib\\site-packages\\sklearn\\metrics\\pairwise.py\u001b[0m in \u001b[0;36mcosine_similarity\u001b[1;34m(X, Y, dense_output)\u001b[0m\n\u001b[0;32m    915\u001b[0m     \u001b[1;31m# to avoid recursive import\u001b[0m\u001b[1;33m\u001b[0m\u001b[1;33m\u001b[0m\u001b[0m\n\u001b[0;32m    916\u001b[0m \u001b[1;33m\u001b[0m\u001b[0m\n\u001b[1;32m--> 917\u001b[1;33m     \u001b[0mX\u001b[0m\u001b[1;33m,\u001b[0m \u001b[0mY\u001b[0m \u001b[1;33m=\u001b[0m \u001b[0mcheck_pairwise_arrays\u001b[0m\u001b[1;33m(\u001b[0m\u001b[0mX\u001b[0m\u001b[1;33m,\u001b[0m \u001b[0mY\u001b[0m\u001b[1;33m)\u001b[0m\u001b[1;33m\u001b[0m\u001b[0m\n\u001b[0m\u001b[0;32m    918\u001b[0m \u001b[1;33m\u001b[0m\u001b[0m\n\u001b[0;32m    919\u001b[0m     \u001b[0mX_normalized\u001b[0m \u001b[1;33m=\u001b[0m \u001b[0mnormalize\u001b[0m\u001b[1;33m(\u001b[0m\u001b[0mX\u001b[0m\u001b[1;33m,\u001b[0m \u001b[0mcopy\u001b[0m\u001b[1;33m=\u001b[0m\u001b[1;32mTrue\u001b[0m\u001b[1;33m)\u001b[0m\u001b[1;33m\u001b[0m\u001b[0m\n",
      "\u001b[1;32m~\\Anaconda3\\lib\\site-packages\\sklearn\\metrics\\pairwise.py\u001b[0m in \u001b[0;36mcheck_pairwise_arrays\u001b[1;34m(X, Y, precomputed, dtype)\u001b[0m\n\u001b[0;32m    110\u001b[0m                         warn_on_dtype=warn_on_dtype, estimator=estimator)\n\u001b[0;32m    111\u001b[0m         Y = check_array(Y, accept_sparse='csr', dtype=dtype,\n\u001b[1;32m--> 112\u001b[1;33m                         warn_on_dtype=warn_on_dtype, estimator=estimator)\n\u001b[0m\u001b[0;32m    113\u001b[0m \u001b[1;33m\u001b[0m\u001b[0m\n\u001b[0;32m    114\u001b[0m     \u001b[1;32mif\u001b[0m \u001b[0mprecomputed\u001b[0m\u001b[1;33m:\u001b[0m\u001b[1;33m\u001b[0m\u001b[0m\n",
      "\u001b[1;32m~\\Anaconda3\\lib\\site-packages\\sklearn\\utils\\validation.py\u001b[0m in \u001b[0;36mcheck_array\u001b[1;34m(array, accept_sparse, dtype, order, copy, force_all_finite, ensure_2d, allow_nd, ensure_min_samples, ensure_min_features, warn_on_dtype, estimator)\u001b[0m\n\u001b[0;32m    451\u001b[0m                              % (array.ndim, estimator_name))\n\u001b[0;32m    452\u001b[0m         \u001b[1;32mif\u001b[0m \u001b[0mforce_all_finite\u001b[0m\u001b[1;33m:\u001b[0m\u001b[1;33m\u001b[0m\u001b[0m\n\u001b[1;32m--> 453\u001b[1;33m             \u001b[0m_assert_all_finite\u001b[0m\u001b[1;33m(\u001b[0m\u001b[0marray\u001b[0m\u001b[1;33m)\u001b[0m\u001b[1;33m\u001b[0m\u001b[0m\n\u001b[0m\u001b[0;32m    454\u001b[0m \u001b[1;33m\u001b[0m\u001b[0m\n\u001b[0;32m    455\u001b[0m     \u001b[0mshape_repr\u001b[0m \u001b[1;33m=\u001b[0m \u001b[0m_shape_repr\u001b[0m\u001b[1;33m(\u001b[0m\u001b[0marray\u001b[0m\u001b[1;33m.\u001b[0m\u001b[0mshape\u001b[0m\u001b[1;33m)\u001b[0m\u001b[1;33m\u001b[0m\u001b[0m\n",
      "\u001b[1;32m~\\Anaconda3\\lib\\site-packages\\sklearn\\utils\\validation.py\u001b[0m in \u001b[0;36m_assert_all_finite\u001b[1;34m(X)\u001b[0m\n\u001b[0;32m     42\u001b[0m             and not np.isfinite(X).all()):\n\u001b[0;32m     43\u001b[0m         raise ValueError(\"Input contains NaN, infinity\"\n\u001b[1;32m---> 44\u001b[1;33m                          \" or a value too large for %r.\" % X.dtype)\n\u001b[0m\u001b[0;32m     45\u001b[0m \u001b[1;33m\u001b[0m\u001b[0m\n\u001b[0;32m     46\u001b[0m \u001b[1;33m\u001b[0m\u001b[0m\n",
      "\u001b[1;31mValueError\u001b[0m: Input contains NaN, infinity or a value too large for dtype('float64')."
     ]
    }
   ],
   "source": [
    "import sklearn\n",
    "from sklearn.metrics import silhouette_score\n",
    "print(silhouette_score(feature_matrix, cluster_labels))\n",
    "\n",
    "nclusters_to_test = 16\n",
    "consensus_matrix = np.zeros((feature_matrix.shape[0],feature_matrix.shape[0]))\n",
    "\n",
    "for i in range(2,nclusters_to_test):\n",
    "    cluster_labels, centroids = kmeans(feature_matrix, i)\n",
    "    sil_score = silhouette_score(feature_matrix, cluster_labels)\n",
    "    print(\"silhouette score for k=\",i, 'is:',sil_score)\n",
    "    for i in range(len(cluster_labels)):\n",
    "        for j in range(len(cluster_labels)):\n",
    "            if cluster_labels[i] == cluster_labels[j]:\n",
    "                consensus_matrix[i,j] = (consensus_matrix[i,j] + 1)\n",
    "                #print(cluster_labels[i],cluster_labels[j],consensus_matrix[i,j])\n",
    "                \n",
    "import matplotlib.pyplot as plt\n",
    "\n",
    "plt.imshow(consensus_matrix)\n",
    "plt.legend()\n",
    "plt.show()\n",
    "\n",
    "#print(pd.DataFrame(consensus_matrix))"
   ]
  },
  {
   "cell_type": "markdown",
   "metadata": {},
   "source": [
    "<h3>Additional post-processing step:</h3>\n",
    "In this step, if a pair (i, j) of tweets did not cluster together more than 10% of the total number of runs, the position (i, j) in the consensus matrix is set to 0."
   ]
  },
  {
   "cell_type": "code",
   "execution_count": null,
   "metadata": {
    "collapsed": true
   },
   "outputs": [],
   "source": [
    "print(pd.DataFrame(consensus_matrix))"
   ]
  },
  {
   "cell_type": "code",
   "execution_count": null,
   "metadata": {
    "collapsed": true
   },
   "outputs": [],
   "source": [
    "for i in range(len(consensus_matrix)):\n",
    "    for j in range(len(consensus_matrix)):\n",
    "        if consensus_matrix[i,j] <= 2:\n",
    "            consensus_matrix[i,j] = 0\n",
    "\n",
    "plt.imshow(consensus_matrix)\n",
    "plt.legend()\n",
    "plt.show()\n",
    "\n",
    "#print(pd.DataFrame(consensus_matrix))"
   ]
  },
  {
   "cell_type": "markdown",
   "metadata": {},
   "source": [
    "<h3>remove Noise points</h3>\n",
    "To detect noise, we will look at the row sums for the consensus\n",
    "matrix and employed a threshold\n",
    "value. Tweets, whose row sum are less than that threshold val\n",
    "ue are, marked as noise points. The\n",
    "threshold value is determined by the average of all the entri\n",
    "es in the constructed consensus matrix."
   ]
  },
  {
   "cell_type": "code",
   "execution_count": null,
   "metadata": {
    "collapsed": true
   },
   "outputs": [],
   "source": [
    "row_mean = consensus_matrix.mean(1)\n",
    "matrix_mean = consensus_matrix.mean()\n",
    "\n",
    "#create clean tweats that removes the noise points\n",
    "clean_tweets = []\n",
    "for i in range(len(all_tweets)):\n",
    "    if row_mean[i] >= matrix_mean:\n",
    "        clean_tweets.append(all_tweets[i])\n",
    "        \n",
    "len(clean_tweets)"
   ]
  },
  {
   "cell_type": "markdown",
   "metadata": {},
   "source": [
    "Running k-Means with the consensus matrix as input, number of clusters = 9"
   ]
  },
  {
   "cell_type": "code",
   "execution_count": null,
   "metadata": {
    "collapsed": true
   },
   "outputs": [],
   "source": [
    "cluster_labels,centroids = kmeans(consensus_matrix,9)\n",
    "print(silhouette_score(consensus_matrix, cluster_labels))"
   ]
  },
  {
   "cell_type": "markdown",
   "metadata": {
    "scrolled": false
   },
   "source": [
    "DBSCAN"
   ]
  },
  {
   "cell_type": "code",
   "execution_count": 72,
   "metadata": {
    "collapsed": true
   },
   "outputs": [],
   "source": [
    "def find_eps_neighborhood(distances, ind, eps):\n",
    "    ''' \n",
    "    Input arguments:\n",
    "        - distances: a matrix containing distances between all pairs of points in the dataset\n",
    "        - ind: index of the point of interest\n",
    "        - eps: the epsilon parameter\n",
    "    Output:\n",
    "        - Retun a set of points in the neighborhood. \n",
    "        (Note: Use Set data structure in Python)\n",
    "    '''\n",
    "    ### YOUR CODE HERE ###\n",
    "    eps_neighbors = np.nonzero(distances[ind] <= eps)[0]\n",
    "    return set(eps_neighbors.tolist())"
   ]
  },
  {
   "cell_type": "code",
   "execution_count": 73,
   "metadata": {
    "collapsed": true
   },
   "outputs": [],
   "source": [
    "def find_reachable_pts(distances, eps, ind):\n",
    "    eps_neighbors = find_eps_neighborhood(distances, ind, eps)\n",
    "    reachables = eps_neighbors\n",
    "    new_pts = copy.deepcopy(eps_neighbors)\n",
    "    new_pts.remove(ind)\n",
    "    while len(new_pts) > 0:\n",
    "        pt = new_pts.pop() \n",
    "        pt_neighbors = find_eps_neighborhood(distances, pt, eps)\n",
    "        additional_pts = pt_neighbors.difference(reachables)\n",
    "        reachables.update(additional_pts)\n",
    "        new_pts.update(additional_pts)\n",
    "    return reachables"
   ]
  },
  {
   "cell_type": "code",
   "execution_count": 130,
   "metadata": {
    "collapsed": true
   },
   "outputs": [],
   "source": [
    "def dbscan(X, eps, minPts):\n",
    "    ''' a simple implementation of DBSCAN algorithm\n",
    "    In this implementation, a point is represented by its index in the dataset. \n",
    "    In this function, except for the step to calculate the Euclidean distance,\n",
    "    we will only work with the points't indices.\n",
    "    \n",
    "    Input arguments:\n",
    "        - X: the dataset\n",
    "        - eps: the epsilon parameter\n",
    "        - minPts: the minimum number of points for a cluster\n",
    "    Output:\n",
    "        - core_points: a list containing the indices of the core points\n",
    "        - cluster_labels: a Numpy array containing labels for each point in X\n",
    "        - outliers: a list containing the indices of the outlier points\n",
    "    '''\n",
    "    # a list to keep track of the unvisited points\n",
    "    unvisited = list(range(X.shape[0]))\n",
    "    # list of core points (or cluster centroids)\n",
    "    core_points = list([])\n",
    "    # list of clusters, each cluster is a set of points\n",
    "    clusters = list([])\n",
    "    # list of outlier points (or noises)\n",
    "    outliers = list([])\n",
    "    distances = sk.metrics.pairwise.euclidean_distances(X, X) #we already have this function above defines in K-means\n",
    "    \n",
    "    while True:\n",
    "        # randomly choose a point, p, from the list of unvisited points\n",
    "        ind = np.random.choice(unvisited, size=1)[0] ### YOUR CODE HERE ###\n",
    "        \n",
    "        # find the eps-neighborhood of the chosen point p\n",
    "        eps_neighbors = find_eps_neighborhood(distances, ind, eps) ### YOUR CODE HERE ###\n",
    "        \n",
    "        # check if p is a core point or not\n",
    "        is_core_pt = len(eps_neighbors) >= minPts ### YOUR CODE HERE ###\n",
    "        \n",
    "        if is_core_pt:\n",
    "            # add the chosen index to the core_points list\n",
    "            ### YOUR CODE HERE ###\n",
    "            core_points.append(ind)\n",
    "            \n",
    "            # find all reachable points from p w.r.t eps and form a new cluster\n",
    "            new_cluster = find_reachable_pts(distances, eps, ind) ### YOUR CODE HERE ###\n",
    "            \n",
    "            # add the newly formed cluster to the list of cluster\n",
    "            ### YOUR CODE HERE ###\n",
    "            clusters.append(new_cluster)\n",
    "            \n",
    "            # remove the indices in the new_cluster from the unvisited list and the outlier list,\n",
    "            # if they were added to either those list before\n",
    "            ### YOUR CODE HERE ###\n",
    "            for ind in new_cluster:\n",
    "                if ind in unvisited:\n",
    "                    unvisited.remove(ind)\n",
    "                if ind in outliers:\n",
    "                    outliers.remove(ind) \n",
    "            \n",
    "        else:\n",
    "            # if not core point, add p to the list of outlier points\n",
    "            ### YOUR CODE HERE ###\n",
    "            outliers.append(ind)\n",
    "        \n",
    "        # remove the chosen index from the unvisited list (if it is still inside this list)\n",
    "        ### YOUR CODE HERE ###\n",
    "        if ind in unvisited:\n",
    "            unvisited.remove(ind)\n",
    "            \n",
    "        # if there is no point left in the unvisited list, stop the loop\n",
    "        if len(unvisited) == 0:\n",
    "            break\n",
    "    \n",
    "    # convert the resulting cluster list to cluster_labels\n",
    "    cluster_labels = np.zeros(X.shape[0])\n",
    "    for i in range(len(clusters)):\n",
    "        for j in clusters[i]:\n",
    "            cluster_labels[j] = i\n",
    "\n",
    "    return core_points, cluster_labels, outliers"
   ]
  },
  {
   "cell_type": "code",
   "execution_count": 131,
   "metadata": {},
   "outputs": [
    {
     "name": "stdout",
     "output_type": "stream",
     "text": [
      "3 clusters found\n",
      "1030 outlier points detected\n",
      "Silhouette score: -0.022752\n"
     ]
    }
   ],
   "source": [
    "import copy \n",
    "eps = 0.999\n",
    "minPts = 6\n",
    "core_points, cluster_labels, outliers = dbscan(feature_matrix, eps, minPts)\n",
    "print('%d clusters found' %(len(core_points)))\n",
    "print('%d outlier points detected' %(len(outliers)))\n",
    "\n",
    "\n",
    "# Calculate the shlhouette score\n",
    "if len(core_points) > 1:\n",
    "    print('Silhouette score: %f' %silhouette_score(feature_matrix, cluster_labels))\n",
    "else:\n",
    "    print('Cannot evaluate silhouetter score with only one cluster')"
   ]
  },
  {
   "cell_type": "code",
   "execution_count": 132,
   "metadata": {},
   "outputs": [
    {
     "name": "stdout",
     "output_type": "stream",
     "text": [
      "[1534, 1749, 1282]\n",
      "[ 0.  0.  0. ...,  0.  0.  0.]\n",
      "[56, 1431, 690, 1796, 1787, 1878, 1069, 1699, 1199, 1625, 21, 797, 539, 347, 112, 584, 48, 740, 120, 131, 1759, 598, 485, 855, 775, 1145, 1862, 1983, 1016, 84, 926, 1047, 222, 346, 483, 1783, 1328, 1239, 279, 717, 372, 1661, 202, 1974, 203, 25, 1706, 665, 709, 1208, 1226, 1970, 1168, 309, 1410, 1530, 74, 319, 660, 216, 220, 296, 1171, 1748, 824, 734, 306, 506, 1209, 675, 1230, 765, 1467, 1644, 794, 1569, 1015, 65, 7, 276, 1521, 1220, 89, 327, 1046, 1194, 1259, 536, 1686, 1417, 1942, 366, 713, 1912, 235, 1155, 1383, 115, 1979, 495, 210, 744, 1501, 1926, 1366, 1079, 1448, 290, 1067, 1073, 1000, 521, 1248, 712, 1877, 1771, 492, 322, 1664, 1382, 1622, 1480, 179, 1990, 345, 221, 1779, 872, 781, 1465, 171, 94, 364, 708, 1061, 1074, 1922, 1400, 772, 603, 1745, 122, 1395, 880, 1334, 373, 263, 1554, 999, 1853, 910, 1672, 990, 1482, 5, 185, 785, 818, 1485, 1102, 308, 109, 47, 208, 1172, 139, 1512, 1818, 609, 352, 1807, 259, 1975, 903, 607, 282, 1940, 1072, 704, 116, 487, 1634, 453, 387, 669, 842, 1805, 886, 1891, 1478, 1453, 382, 1184, 1278, 1292, 234, 1791, 1773, 339, 1405, 1755, 1089, 956, 819, 1488, 1133, 392, 941, 1571, 1001, 230, 888, 1731, 494, 362, 1972, 1518, 1751, 97, 35, 285, 1210, 1531, 1834, 832, 271, 177, 1510, 64, 161, 24, 611, 1506, 1357, 1960, 1373, 1548, 1639, 873, 53, 1040, 137, 816, 187, 952, 1159, 1183, 1285, 1684, 552, 548, 627, 1890, 1519, 778, 1645, 556, 183, 117, 1583, 1196, 1353, 1894, 944, 1514, 1401, 26, 266, 1041, 1848, 1120, 578, 962, 1738, 228, 188, 1906, 1213, 71, 604, 1408, 1110, 1798, 311, 1377, 1045, 1269, 1103, 1175, 940, 1545, 257, 1090, 1529, 806, 1900, 1578, 1013, 1249, 83, 559, 1280, 982, 459, 1524, 1044, 1402, 340, 320, 1315, 654, 1188, 1911, 1123, 1279, 1985, 916, 1837, 747, 1140, 192, 1095, 393, 1799, 1241, 791, 547, 755, 1760, 1992, 342, 836, 730, 497, 557, 1115, 191, 1218, 1981, 761, 661, 738, 1483, 1310, 562, 1632, 922, 223, 1059, 705, 1737, 443, 1119, 1766, 378, 528, 1901, 1893, 1987, 915, 1707, 1784, 1062, 885, 353, 355, 1428, 367, 1585, 1491, 1054, 1593, 947, 605, 205, 1324, 1535, 450, 1833, 1057, 496, 1413, 1451, 87, 1649, 176, 1122, 169, 8, 22, 1496, 174, 591, 14, 1736, 1564, 1692, 1433, 34, 1845, 1232, 889, 1809, 769, 1801, 955, 1669, 376, 1800, 105, 1962, 245, 1830, 929, 1139, 951, 898, 588, 165, 1345, 498, 517, 1978, 1420, 1277, 1273, 1177, 142, 1476, 804, 897, 264, 1500, 3, 1825, 1398, 676, 418, 1996, 516, 1331, 1312, 826, 1592, 1038, 663, 369, 601, 1088, 1179, 297, 1920, 1824, 1071, 181, 119, 1865, 337, 106, 136, 1750, 634, 473, 499, 1602, 1740, 1883, 1162, 1429, 718, 1275, 553, 1924, 448, 896, 672, 130, 157, 422, 985, 472, 395, 1234, 384, 1078, 984, 983, 1043, 1677, 1368, 576, 125, 1939, 160, 1626, 1474, 1532, 252, 1951, 967, 1356, 1481, 653, 879, 1415, 846, 996, 1306, 1237, 49, 445, 1747, 647, 414, 1829, 964, 1612, 1108, 1393, 1051, 542, 727, 413, 68, 166, 720, 1164, 1190, 913, 92, 349, 1233, 651, 409, 489, 1030, 1134, 1892, 158, 1446, 1808, 1772, 1364, 963, 1840, 600, 173, 1138, 1856, 408, 629, 225, 1946, 746, 251, 63, 1254, 575, 1017, 599, 375, 217, 1683, 817, 1320, 1009, 69, 753, 1296, 756, 1350, 652, 1881, 159, 1442, 560, 1628, 534, 1601, 407, 379, 1637, 1696, 1721, 1507, 526, 1700, 1197, 463, 1228, 1720, 1525, 385, 927, 250, 449, 1576, 779, 1313, 723, 1293, 1399, 1076, 1238, 550, 823, 1715, 1146, 1823, 1106, 237, 429, 1923, 1165, 317, 1389, 1860, 1441, 438, 582, 1295, 58, 635, 426, 386, 1851, 1101, 1782, 1763, 196, 646, 934, 1786, 132, 1806, 1268, 1986, 1659, 1361, 1643, 256, 374, 1957, 1082, 381, 1276, 899, 1473, 1337, 844, 1753, 566, 357, 726, 1629, 1743, 1995, 518, 1716, 1058, 1229, 1850, 1655, 1304, 987, 1876, 1641, 1450, 1903, 1905, 1927, 1879, 981, 1682, 121, 1754, 338, 1375, 869, 1048, 1053, 1509, 976, 391, 1832, 439, 218, 615, 1187, 792, 581, 1351, 1490, 482, 655, 1271, 1096, 1130, 1435, 1070, 167, 45, 1723, 975, 768, 204, 1998, 1424, 1153, 1018, 1352, 488, 102, 1492, 151, 1136, 1005, 491, 1407, 51, 796, 1820, 1863, 1590, 1635, 1037, 1935, 1406, 1543, 1028, 415, 994, 1741, 694, 1311, 431, 970, 224, 971, 909, 555, 141, 1817, 1205, 1148, 1055, 908, 1676, 332, 95, 1150, 1129, 428, 441, 1191, 255, 828, 1961, 1170, 1547, 267, 1674, 1063, 1029, 567, 96, 1092, 490, 1567, 153, 189, 700, 12, 140, 920, 1732, 821, 574, 840, 919, 1536, 1775, 1042, 790, 1189, 1121, 1504, 858, 1339, 530, 1846, 751, 82, 128, 942, 1816, 1993, 937, 1577, 380, 1931, 16, 287, 1964, 1631, 111, 671, 214, 1173, 178, 992, 1195, 1588, 1568, 782, 195, 950, 417, 156, 510, 219, 73, 1663, 1031, 1976, 1597, 614, 692, 80, 1461, 1685, 1874, 1203, 1517, 175, 1600, 1439, 504, 134, 1606, 1896, 1262, 1610, 711, 144, 1733, 1200, 1687, 549, 172, 773, 861, 1251, 617, 857, 1627, 1264, 456, 1762, 1938, 1010, 961, 107, 101, 1898, 1147, 945, 461, 405, 1562, 1419, 641, 17, 302, 1109, 1216, 822, 645, 1321, 748, 133, 902, 260, 860, 1756, 81, 1553, 1560, 1289, 957, 638, 371, 1068, 1871, 841, 91, 1185, 1307, 1231, 1915, 1385, 1619, 1937, 1099, 1789, 1943, 532, 486, 811, 767, 766, 464, 1127, 440, 1917, 470, 1739, 1455, 149, 1255, 979, 118, 1225, 138, 1767, 696, 893, 272, 697, 162, 1821, 1765, 1693, 877, 1035, 411, 1156, 1831, 462, 114, 226, 1274, 1971, 666, 1814, 1941, 735, 1033, 827, 1793, 348, 1913, 1454, 86, 1445, 274, 1459, 681, 1019, 1609, 1111, 1795, 1502, 862, 1219, 326, 511, 835, 573, 437, 1322, 1575, 155, 313, 1049, 493, 1060, 664, 642, 404, 1708, 849, 687, 1412, 1244, 1730, 1477, 1495, 1662, 1499, 32, 524, 1463, 958, 585, 61, 1533, 254, 891, 851, 777, 60, 1774, 852, 863, 656, 1, 44, 758, 626, 284, 1613, 246, 1934, 1317, 593, 1777, 1955, 1963, 1566, 1286, 229, 868, 1885, 679, 702, 452, 1369, 1206, 729, 295, 1591, 1272, 788, 714, 273, 597, 318, 1855, 707, 150, 244, 1458, 316, 589, 1711, 1542, 874, 1332, 659, 1515, 1117, 1714, 197, 350, 481, 1581, 388, 1260, 212, 1355, 104, 543, 1526, 275, 430, 732, 959, 1828, 1091, 1215, 477, 190, 1359, 1381, 1735, 621, 565, 1527, 770, 341, 933, 1386, 286, 989, 917, 1169, 258, 1843, 932, 807, 1640, 1036, 1921, 1163, 1928, 334, 719, 680, 949, 442, 1142, 1880, 1977, 914, 894, 1875, 1559, 66, 406, 1803, 412, 1484, 1703, 1689, 100, 954, 1378, 11, 127, 1797, 1335, 586, 568, 1729, 1929, 1151, 1752, 760, 829, 123, 1728, 1932, 1804, 1539, 1440, 644, 900, 1650, 923, 1826, 508, 965, 479, 1608, 424, 1384, 602, 1718, 1258, 757, 725, 895, 1449, 1319, 270, 515, 590, 1764, 622, 99, 201, 1973, 1671, 168, 1572, 546, 1552, 1690, 1573, 468, 608, 1294, 93, 394, 1434, 403, 1854, 1329, 1904, 1135, 774, 50, 538, 1558, 1623, 825, 637, 76, 739, 457, 831, 1397, 972, 1457, 1347, 1084, 1327, 194, 1624, 1654, 848, 1391, 454, 1494, 182, 737, 505, 619, 1343, 401, 1914, 1994, 79, 389, 1498, 1300, 323, 1778, 613, 1858, 1250, 1202, 476, 1497, 1541, 1104, 682, 1370, 928, 1933, 268, 905, 108, 1675, 988, 294, 1288, 1411, 1930, 754, 1024, 544, 1544, 1652, 1792, 728, 193, 135, 1253, 1290, 1065, 1847, 1144, 939, 383, 742, 1302, 62, 925, 1647, 261, 1668, 1374, 527, 336, 1308, 1182, 736, 1984, 1034, 333, 1075, 236, 1758, 1426, 1678, 1217, 1341, 1864, 1143, 1705, 1633, 54, 1014, 1160, 321, 399, 209, 703, 1866, 924, 1839, 1712, 1284, 1948, 1726, 1861, 632, 1557, 620, 43, 838, 10, 1653, 23, 1713, 354, 1658, 75, 1916, 1794, 673, 1617, 6, 1479, 1907, 1565, 1326, 480, 301, 421, 1868]\n"
     ]
    },
    {
     "data": {
      "image/png": "[encoded data removed]",
      "text/plain": [
       "<matplotlib.figure.Figure at 0x2a080a06080>"
      ]
     },
     "metadata": {},
     "output_type": "display_data"
    }
   ],
   "source": [
    "core_points, cluster_labels, outliers = dbscan(feature_matrix, 0.9, 6)\n",
    "\n",
    "print(core_points)\n",
    "print(cluster_labels)\n",
    "print(outliers)\n",
    "\n",
    "plt.plot(cluster_labels, 'ro')\n",
    "plt.show()"
   ]
  },
  {
   "cell_type": "code",
   "execution_count": 133,
   "metadata": {},
   "outputs": [
    {
     "data": {
      "text/plain": [
       "2001"
      ]
     },
     "execution_count": 133,
     "metadata": {},
     "output_type": "execute_result"
    }
   ],
   "source": [
    "feature_matrix.shape[0]"
   ]
  },
  {
   "cell_type": "code",
   "execution_count": 305,
   "metadata": {
    "collapsed": true
   },
   "outputs": [],
   "source": [
    "consensus_DBSCAN = np.zeros((feature_matrix.shape[0],10))"
   ]
  },
  {
   "cell_type": "code",
   "execution_count": 306,
   "metadata": {},
   "outputs": [
    {
     "name": "stdout",
     "output_type": "stream",
     "text": [
      "28 clusters found\n",
      "843 outlier points detected\n",
      "33 clusters found\n",
      "907 outlier points detected\n",
      "37 clusters found\n",
      "982 outlier points detected\n",
      "37 clusters found\n",
      "1065 outlier points detected\n",
      "41 clusters found\n",
      "1154 outlier points detected\n",
      "43 clusters found\n",
      "1230 outlier points detected\n",
      "47 clusters found\n",
      "1327 outlier points detected\n"
     ]
    }
   ],
   "source": [
    "i = 0\n",
    "epscount = 1.05\n",
    "while epscount>0.86:\n",
    "    minPts = 2\n",
    "    core_points, cluster_labels, outliers = dbscan(feature_matrix, epscount, minPts)\n",
    "    print('%d clusters found' %(len(core_points)))\n",
    "    print('%d outlier points detected' %(len(outliers)))\n",
    "    for k in range(0,feature_matrix.shape[0]):\n",
    "        if k in outliers:\n",
    "            consensus_DBSCAN[k][i] = 1.0 #noise\n",
    "        elif k in core_points:\n",
    "            consensus_DBSCAN[k][i] = 2.0 #dense\n",
    "        else:\n",
    "            consensus_DBSCAN[k][i] = 3.0 #border\n",
    "    i= i+1\n",
    "    epscount = epscount - 0.03\n",
    "    \n",
    "    "
   ]
  },
  {
   "cell_type": "code",
   "execution_count": 307,
   "metadata": {},
   "outputs": [
    {
     "data": {
      "text/plain": [
       "array([[ 3.,  3.,  3., ...,  0.,  0.,  0.],\n",
       "       [ 1.,  1.,  1., ...,  0.,  0.,  0.],\n",
       "       [ 3.,  3.,  3., ...,  0.,  0.,  0.],\n",
       "       ..., \n",
       "       [ 3.,  3.,  3., ...,  0.,  0.,  0.],\n",
       "       [ 3.,  3.,  3., ...,  0.,  0.,  0.],\n",
       "       [ 3.,  3.,  3., ...,  0.,  0.,  0.]])"
      ]
     },
     "execution_count": 307,
     "metadata": {},
     "output_type": "execute_result"
    }
   ],
   "source": [
    "consensus_DBSCAN"
   ]
  },
  {
   "cell_type": "code",
   "execution_count": 308,
   "metadata": {},
   "outputs": [
    {
     "data": {
      "image/png": "[encoded data removed]",
      "text/plain": [
       "<matplotlib.figure.Figure at 0x2a0816d52e8>"
      ]
     },
     "metadata": {},
     "output_type": "display_data"
    }
   ],
   "source": [
    "plt.plot(consensus_DBSCAN)\n",
    "plt.show()"
   ]
  },
  {
   "cell_type": "code",
   "execution_count": 309,
   "metadata": {},
   "outputs": [],
   "source": [
    "consensus_DBSCAN_results = np.zeros((consensus_DBSCAN.shape[0],1))\n",
    "for numb in range (0,consensus_DBSCAN.shape[0]):\n",
    "    threes = 0\n",
    "    twos = 0\n",
    "    ones = 0\n",
    "    for r in range(0,consensus_DBSCAN.shape[1]):\n",
    "        if consensus_DBSCAN[numb][r] == 1:\n",
    "            ones = ones+1\n",
    "        elif consensus_DBSCAN[numb][r]== 2:\n",
    "            twos = twos + 1\n",
    "        elif consensus_DBSCAN[numb][r] ==3:\n",
    "            threes = threes + 1\n",
    "\n",
    "    \n",
    "    total = ones + threes #noise + border\n",
    "    \n",
    "    #print(total)\n",
    "    threshold = (consensus_DBSCAN.shape[1]*50)/100\n",
    "    if total > threshold:\n",
    "        consensus_DBSCAN_results[numb][0] = 0 #noise\n",
    "    else:\n",
    "        consensus_DBSCAN_results[numb][0] = 1 #not noise\n",
    "    "
   ]
  },
  {
   "cell_type": "code",
   "execution_count": 310,
   "metadata": {},
   "outputs": [
    {
     "data": {
      "image/png": "[encoded data removed]",
      "text/plain": [
       "<matplotlib.figure.Figure at 0x2a081717198>"
      ]
     },
     "metadata": {},
     "output_type": "display_data"
    }
   ],
   "source": [
    "plt.plot(consensus_DBSCAN_results)\n",
    "plt.show()"
   ]
  },
  {
   "cell_type": "code",
   "execution_count": 312,
   "metadata": {},
   "outputs": [
    {
     "name": "stdout",
     "output_type": "stream",
     "text": [
      "[[ 0.]\n",
      " [ 0.]\n",
      " [ 0.]\n",
      " ..., \n",
      " [ 0.]\n",
      " [ 0.]\n",
      " [ 0.]]\n"
     ]
    }
   ],
   "source": [
    "print(consensus_DBSCAN_results)"
   ]
  },
  {
   "cell_type": "code",
   "execution_count": 313,
   "metadata": {
    "collapsed": true
   },
   "outputs": [],
   "source": [
    "dbscan_filtered_tweets = feature_matrix"
   ]
  },
  {
   "cell_type": "code",
   "execution_count": null,
   "metadata": {
    "collapsed": true
   },
   "outputs": [],
   "source": []
  }
 ],
 "metadata": {
  "kernelspec": {
   "display_name": "Python 3",
   "language": "python",
   "name": "python3"
  },
  "language_info": {
   "codemirror_mode": {
    "name": "ipython",
    "version": 3
   },
   "file_extension": ".py",
   "mimetype": "text/x-python",
   "name": "python",
   "nbconvert_exporter": "python",
   "pygments_lexer": "ipython3",
   "version": "3.6.3"
  }
 },
 "nbformat": 4,
 "nbformat_minor": 2
}
